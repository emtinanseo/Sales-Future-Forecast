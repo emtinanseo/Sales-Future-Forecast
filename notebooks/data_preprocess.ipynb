{
 "cells": [
  {
   "cell_type": "code",
   "execution_count": 1,
   "id": "4500f5a9",
   "metadata": {},
   "outputs": [],
   "source": [
    "import pandas as pd"
   ]
  },
  {
   "cell_type": "code",
   "execution_count": 2,
   "id": "491113c2",
   "metadata": {},
   "outputs": [],
   "source": [
    "import sys, os\n",
    "\n",
    "sys.path.append(os.path.abspath(os.path.join(\"../..\")))\n",
    "sys.path.append(os.path.abspath(os.path.join(\"../scripts\")))"
   ]
  },
  {
   "cell_type": "code",
   "execution_count": 7,
   "id": "e4327381",
   "metadata": {},
   "outputs": [],
   "source": [
    "import eda_functions as eda"
   ]
  },
  {
   "cell_type": "code",
   "execution_count": 3,
   "id": "31768a4b",
   "metadata": {},
   "outputs": [],
   "source": [
    "import dvc.api"
   ]
  },
  {
   "cell_type": "code",
   "execution_count": 5,
   "id": "41c5b66c",
   "metadata": {},
   "outputs": [],
   "source": [
    "#path = 'data/train.csv'\n",
    "#repo = '../'\n",
    "#version = 'v1'\n",
    "\n",
    "#data_url = dvc.api.get_url(path=path, repo=repo, rev=version)\n",
    "train_data = pd.read_csv('../data/train.csv', low_memory= False)"
   ]
  },
  {
   "cell_type": "code",
   "execution_count": 6,
   "id": "a51235aa",
   "metadata": {},
   "outputs": [],
   "source": [
    "#path = 'data/test.csv'\n",
    "#repo = '../'\n",
    "#version = 'v1'\n",
    "\n",
    "#data_url = dvc.api.get_url(path=path, repo=repo, rev=version)\n",
    "test_data = pd.read_csv('../data/test.csv', low_memory= False)"
   ]
  },
  {
   "cell_type": "code",
   "execution_count": null,
   "id": "6671c510",
   "metadata": {},
   "outputs": [],
   "source": [
    "train_data"
   ]
  }
 ],
 "metadata": {
  "kernelspec": {
   "display_name": "Python 3 (ipykernel)",
   "language": "python",
   "name": "python3"
  },
  "language_info": {
   "codemirror_mode": {
    "name": "ipython",
    "version": 3
   },
   "file_extension": ".py",
   "mimetype": "text/x-python",
   "name": "python",
   "nbconvert_exporter": "python",
   "pygments_lexer": "ipython3",
   "version": "3.10.4"
  }
 },
 "nbformat": 4,
 "nbformat_minor": 5
}

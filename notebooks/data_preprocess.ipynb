{
 "cells": [
  {
   "cell_type": "code",
   "execution_count": 1,
   "id": "1ebd4278",
   "metadata": {},
   "outputs": [],
   "source": [
    "import pandas as pd"
   ]
  },
  {
   "cell_type": "code",
   "execution_count": 2,
   "id": "491113c2",
   "metadata": {},
   "outputs": [],
   "source": [
    "import sys, os\n",
    "\n",
    "sys.path.append(os.path.abspath(os.path.join(\"../..\")))\n",
    "sys.path.append(os.path.abspath(os.path.join(\"../scripts\")))"
   ]
  },
  {
   "cell_type": "code",
   "execution_count": 3,
   "id": "3a2c46d0",
   "metadata": {},
   "outputs": [],
   "source": [
    "import eda_functions as eda"
   ]
  },
  {
   "cell_type": "code",
   "execution_count": 4,
   "id": "c014f085",
   "metadata": {},
   "outputs": [],
   "source": [
    "import preprocess_functions as prep"
   ]
  },
  {
   "cell_type": "code",
   "execution_count": 5,
   "id": "e11df100",
   "metadata": {},
   "outputs": [],
   "source": [
    "import dvc.api"
   ]
  },
  {
   "cell_type": "markdown",
   "id": "dbf3397a",
   "metadata": {},
   "source": [
    "# Read Data"
   ]
  },
  {
   "cell_type": "code",
   "execution_count": 6,
   "id": "6a196fb9",
   "metadata": {},
   "outputs": [],
   "source": [
    "#path = 'data/train.csv'\n",
    "#repo = '../'\n",
    "#version = 'v1'\n",
    "\n",
    "#data_url = dvc.api.get_url(path=path, repo=repo, rev=version)\n",
    "train_data = pd.read_csv('../data/train.csv', low_memory= False)"
   ]
  },
  {
   "cell_type": "code",
   "execution_count": 7,
   "id": "3cd4b209",
   "metadata": {},
   "outputs": [],
   "source": [
    "#path = 'data/test.csv'\n",
    "#repo = '../'\n",
    "#version = 'v1'\n",
    "\n",
    "#data_url = dvc.api.get_url(path=path, repo=repo, rev=version)\n",
    "test_data = pd.read_csv('../data/test.csv',low_memory= False)"
   ]
  },
  {
   "cell_type": "markdown",
   "id": "3957f866",
   "metadata": {},
   "source": [
    "# Summary About Data"
   ]
  },
  {
   "cell_type": "markdown",
   "id": "135e052f",
   "metadata": {},
   "source": [
    "## General "
   ]
  },
  {
   "cell_type": "code",
   "execution_count": 8,
   "id": "e2858e5d",
   "metadata": {
    "scrolled": false
   },
   "outputs": [
    {
     "name": "stdout",
     "output_type": "stream",
     "text": [
      "<class 'pandas.core.frame.DataFrame'>\n",
      "RangeIndex: 1017209 entries, 0 to 1017208\n",
      "Data columns (total 19 columns):\n",
      " #   Column                     Non-Null Count    Dtype  \n",
      "---  ------                     --------------    -----  \n",
      " 0   Date                       1017209 non-null  object \n",
      " 1   Store                      1017209 non-null  int64  \n",
      " 2   DayOfWeek                  1017209 non-null  int64  \n",
      " 3   Sales                      1017209 non-null  int64  \n",
      " 4   Customers                  1017209 non-null  int64  \n",
      " 5   Open                       1017209 non-null  int64  \n",
      " 6   Promo                      1017209 non-null  int64  \n",
      " 7   StateHoliday               1017209 non-null  object \n",
      " 8   SchoolHoliday              1017209 non-null  int64  \n",
      " 9   StoreType                  1017209 non-null  object \n",
      " 10  Assortment                 1017209 non-null  object \n",
      " 11  CompetitionDistance        1014567 non-null  float64\n",
      " 12  CompetitionOpenSinceMonth  693861 non-null   float64\n",
      " 13  CompetitionOpenSinceYear   693861 non-null   float64\n",
      " 14  Promo2                     1017209 non-null  int64  \n",
      " 15  Promo2SinceWeek            509178 non-null   float64\n",
      " 16  Promo2SinceYear            509178 non-null   float64\n",
      " 17  PromoInterval              509178 non-null   object \n",
      " 18  IsWeekend                  1017209 non-null  int64  \n",
      "dtypes: float64(5), int64(9), object(5)\n",
      "memory usage: 147.5+ MB\n"
     ]
    }
   ],
   "source": [
    "train_data.info()"
   ]
  },
  {
   "cell_type": "code",
   "execution_count": 9,
   "id": "68fc8c07",
   "metadata": {
    "scrolled": false
   },
   "outputs": [
    {
     "name": "stdout",
     "output_type": "stream",
     "text": [
      "<class 'pandas.core.frame.DataFrame'>\n",
      "RangeIndex: 41088 entries, 0 to 41087\n",
      "Data columns (total 18 columns):\n",
      " #   Column                     Non-Null Count  Dtype  \n",
      "---  ------                     --------------  -----  \n",
      " 0   Date                       41088 non-null  object \n",
      " 1   Id                         41088 non-null  int64  \n",
      " 2   Store                      41088 non-null  int64  \n",
      " 3   DayOfWeek                  41088 non-null  int64  \n",
      " 4   Open                       41077 non-null  float64\n",
      " 5   Promo                      41088 non-null  int64  \n",
      " 6   StateHoliday               41088 non-null  object \n",
      " 7   SchoolHoliday              41088 non-null  int64  \n",
      " 8   StoreType                  41088 non-null  object \n",
      " 9   Assortment                 41088 non-null  object \n",
      " 10  CompetitionDistance        40992 non-null  float64\n",
      " 11  CompetitionOpenSinceMonth  25872 non-null  float64\n",
      " 12  CompetitionOpenSinceYear   25872 non-null  float64\n",
      " 13  Promo2                     41088 non-null  int64  \n",
      " 14  Promo2SinceWeek            23856 non-null  float64\n",
      " 15  Promo2SinceYear            23856 non-null  float64\n",
      " 16  PromoInterval              23856 non-null  object \n",
      " 17  IsWeekend                  41088 non-null  int64  \n",
      "dtypes: float64(6), int64(7), object(5)\n",
      "memory usage: 5.6+ MB\n"
     ]
    }
   ],
   "source": [
    "test_data.info()"
   ]
  },
  {
   "cell_type": "code",
   "execution_count": 18,
   "id": "97bb09ef",
   "metadata": {},
   "outputs": [],
   "source": [
    "# set Date column as datetime index\n",
    "#train_data['Date'] = pd.to_datetime(train_data['Date'])\n",
    "#train_data.set_index('Date', inplace=True)\n",
    "\n",
    "#test_data['Date'] = pd.to_datetime(test_data['Date'])\n",
    "#test_data.set_index('Date', inplace= True)"
   ]
  },
  {
   "cell_type": "code",
   "execution_count": 10,
   "id": "816ed6fc",
   "metadata": {},
   "outputs": [],
   "source": [
    "# set Date column as datetime index\n",
    "\n",
    "train_data = prep.index_by_date(train_data, 'Date')\n",
    "test_data = prep.index_by_date(test_data, 'Date')"
   ]
  },
  {
   "cell_type": "markdown",
   "id": "5a431908",
   "metadata": {},
   "source": [
    "## Columns with Missing Values"
   ]
  },
  {
   "cell_type": "code",
   "execution_count": 11,
   "id": "6da0832c",
   "metadata": {},
   "outputs": [
    {
     "name": "stdout",
     "output_type": "stream",
     "text": [
      "Your selected dataframe has 18 columns.\n",
      "There are 6 columns that have missing values.\n"
     ]
    },
    {
     "data": {
      "text/html": [
       "<div>\n",
       "<style scoped>\n",
       "    .dataframe tbody tr th:only-of-type {\n",
       "        vertical-align: middle;\n",
       "    }\n",
       "\n",
       "    .dataframe tbody tr th {\n",
       "        vertical-align: top;\n",
       "    }\n",
       "\n",
       "    .dataframe thead th {\n",
       "        text-align: right;\n",
       "    }\n",
       "</style>\n",
       "<table border=\"1\" class=\"dataframe\">\n",
       "  <thead>\n",
       "    <tr style=\"text-align: right;\">\n",
       "      <th></th>\n",
       "      <th>Missing Values</th>\n",
       "      <th>% of Total Values</th>\n",
       "      <th>Dtype</th>\n",
       "    </tr>\n",
       "  </thead>\n",
       "  <tbody>\n",
       "    <tr>\n",
       "      <th>Promo2SinceWeek</th>\n",
       "      <td>508031</td>\n",
       "      <td>49.90</td>\n",
       "      <td>float64</td>\n",
       "    </tr>\n",
       "    <tr>\n",
       "      <th>Promo2SinceYear</th>\n",
       "      <td>508031</td>\n",
       "      <td>49.90</td>\n",
       "      <td>float64</td>\n",
       "    </tr>\n",
       "    <tr>\n",
       "      <th>PromoInterval</th>\n",
       "      <td>508031</td>\n",
       "      <td>49.90</td>\n",
       "      <td>object</td>\n",
       "    </tr>\n",
       "    <tr>\n",
       "      <th>CompetitionOpenSinceMonth</th>\n",
       "      <td>323348</td>\n",
       "      <td>31.80</td>\n",
       "      <td>float64</td>\n",
       "    </tr>\n",
       "    <tr>\n",
       "      <th>CompetitionOpenSinceYear</th>\n",
       "      <td>323348</td>\n",
       "      <td>31.80</td>\n",
       "      <td>float64</td>\n",
       "    </tr>\n",
       "    <tr>\n",
       "      <th>CompetitionDistance</th>\n",
       "      <td>2642</td>\n",
       "      <td>0.30</td>\n",
       "      <td>float64</td>\n",
       "    </tr>\n",
       "  </tbody>\n",
       "</table>\n",
       "</div>"
      ],
      "text/plain": [
       "                           Missing Values  % of Total Values    Dtype\n",
       "Promo2SinceWeek                    508031              49.90  float64\n",
       "Promo2SinceYear                    508031              49.90  float64\n",
       "PromoInterval                      508031              49.90   object\n",
       "CompetitionOpenSinceMonth          323348              31.80  float64\n",
       "CompetitionOpenSinceYear           323348              31.80  float64\n",
       "CompetitionDistance                  2642               0.30  float64"
      ]
     },
     "execution_count": 11,
     "metadata": {},
     "output_type": "execute_result"
    }
   ],
   "source": [
    "eda.missing_values_table(train_data)"
   ]
  },
  {
   "cell_type": "code",
   "execution_count": 12,
   "id": "317e4a78",
   "metadata": {},
   "outputs": [
    {
     "name": "stdout",
     "output_type": "stream",
     "text": [
      "Your selected dataframe has 17 columns.\n",
      "There are 7 columns that have missing values.\n"
     ]
    },
    {
     "data": {
      "text/html": [
       "<div>\n",
       "<style scoped>\n",
       "    .dataframe tbody tr th:only-of-type {\n",
       "        vertical-align: middle;\n",
       "    }\n",
       "\n",
       "    .dataframe tbody tr th {\n",
       "        vertical-align: top;\n",
       "    }\n",
       "\n",
       "    .dataframe thead th {\n",
       "        text-align: right;\n",
       "    }\n",
       "</style>\n",
       "<table border=\"1\" class=\"dataframe\">\n",
       "  <thead>\n",
       "    <tr style=\"text-align: right;\">\n",
       "      <th></th>\n",
       "      <th>Missing Values</th>\n",
       "      <th>% of Total Values</th>\n",
       "      <th>Dtype</th>\n",
       "    </tr>\n",
       "  </thead>\n",
       "  <tbody>\n",
       "    <tr>\n",
       "      <th>Promo2SinceWeek</th>\n",
       "      <td>17232</td>\n",
       "      <td>41.90</td>\n",
       "      <td>float64</td>\n",
       "    </tr>\n",
       "    <tr>\n",
       "      <th>Promo2SinceYear</th>\n",
       "      <td>17232</td>\n",
       "      <td>41.90</td>\n",
       "      <td>float64</td>\n",
       "    </tr>\n",
       "    <tr>\n",
       "      <th>PromoInterval</th>\n",
       "      <td>17232</td>\n",
       "      <td>41.90</td>\n",
       "      <td>object</td>\n",
       "    </tr>\n",
       "    <tr>\n",
       "      <th>CompetitionOpenSinceMonth</th>\n",
       "      <td>15216</td>\n",
       "      <td>37.00</td>\n",
       "      <td>float64</td>\n",
       "    </tr>\n",
       "    <tr>\n",
       "      <th>CompetitionOpenSinceYear</th>\n",
       "      <td>15216</td>\n",
       "      <td>37.00</td>\n",
       "      <td>float64</td>\n",
       "    </tr>\n",
       "    <tr>\n",
       "      <th>CompetitionDistance</th>\n",
       "      <td>96</td>\n",
       "      <td>0.20</td>\n",
       "      <td>float64</td>\n",
       "    </tr>\n",
       "    <tr>\n",
       "      <th>Open</th>\n",
       "      <td>11</td>\n",
       "      <td>0.00</td>\n",
       "      <td>float64</td>\n",
       "    </tr>\n",
       "  </tbody>\n",
       "</table>\n",
       "</div>"
      ],
      "text/plain": [
       "                           Missing Values  % of Total Values    Dtype\n",
       "Promo2SinceWeek                     17232              41.90  float64\n",
       "Promo2SinceYear                     17232              41.90  float64\n",
       "PromoInterval                       17232              41.90   object\n",
       "CompetitionOpenSinceMonth           15216              37.00  float64\n",
       "CompetitionOpenSinceYear            15216              37.00  float64\n",
       "CompetitionDistance                    96               0.20  float64\n",
       "Open                                   11               0.00  float64"
      ]
     },
     "execution_count": 12,
     "metadata": {},
     "output_type": "execute_result"
    }
   ],
   "source": [
    "eda.missing_values_table(test_data)"
   ]
  },
  {
   "cell_type": "markdown",
   "id": "65984ca5",
   "metadata": {},
   "source": [
    "# Add More Columns\n",
    "\n",
    "2.1 Preprocessing\n",
    "It is important to process the data into a format where it can be fed to a machine learning model. This typically means converting all non-numeric columns to numeric, handling NaN values and generating new features from already existing features. \n",
    "\n",
    "In our case, you have a few datetime columns to preprocess. you can extract the following from them:\n",
    "- weekdays\n",
    "- weekends \n",
    "- number of days to holidays\n",
    "- Number of days after holiday\n",
    "- Beginning of month, mid month and ending of month\n",
    "- (think of more features to extract), extra marks for it\n",
    "\t\t\t\n",
    "As a final thing, you have to scale the data. This helps with predictions especially when using machine learning algorithms that use Euclidean distances. you can use the standard scaler in sklearn for this.\n"
   ]
  },
  {
   "cell_type": "code",
   "execution_count": 13,
   "id": "a4b22516",
   "metadata": {},
   "outputs": [],
   "source": [
    "train_data = prep.date_componants(train_data, train_data.index)"
   ]
  },
  {
   "cell_type": "code",
   "execution_count": 14,
   "id": "b0067880",
   "metadata": {},
   "outputs": [],
   "source": [
    "test_data = prep.date_componants(test_data, test_data.index)"
   ]
  }
 ],
 "metadata": {
  "kernelspec": {
   "display_name": "Python 3 (ipykernel)",
   "language": "python",
   "name": "python3"
  },
  "language_info": {
   "codemirror_mode": {
    "name": "ipython",
    "version": 3
   },
   "file_extension": ".py",
   "mimetype": "text/x-python",
   "name": "python",
   "nbconvert_exporter": "python",
   "pygments_lexer": "ipython3",
   "version": "3.10.4"
  }
 },
 "nbformat": 4,
 "nbformat_minor": 5
}

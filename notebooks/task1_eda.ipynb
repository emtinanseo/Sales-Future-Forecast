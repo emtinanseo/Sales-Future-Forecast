{
 "cells": [
  {
   "cell_type": "code",
   "execution_count": 1,
   "id": "b117471a",
   "metadata": {},
   "outputs": [],
   "source": [
    "import pandas as pd\n",
    "import matplotlib.pyplot as plt\n",
    "import seaborn as sns"
   ]
  },
  {
   "cell_type": "code",
   "execution_count": 2,
   "id": "cf221e8a",
   "metadata": {},
   "outputs": [],
   "source": [
    "import sys, os\n",
    "\n",
    "sys.path.append(os.path.abspath(os.path.join(\"../..\")))\n",
    "sys.path.append(os.path.abspath(os.path.join(\"../scripts\")))"
   ]
  },
  {
   "cell_type": "code",
   "execution_count": 3,
   "id": "553af874",
   "metadata": {},
   "outputs": [],
   "source": [
    "import eda_functions as eda"
   ]
  },
  {
   "cell_type": "code",
   "execution_count": 4,
   "id": "31634827",
   "metadata": {},
   "outputs": [],
   "source": [
    "import dvc.api"
   ]
  },
  {
   "cell_type": "code",
   "execution_count": 5,
   "id": "b5ec0cde",
   "metadata": {},
   "outputs": [],
   "source": [
    "from urllib.parse import urlparse"
   ]
  },
  {
   "cell_type": "code",
   "execution_count": 6,
   "id": "63a81b60",
   "metadata": {},
   "outputs": [],
   "source": [
    "import warnings \n",
    "\n",
    "# Suppressing warning messages\n",
    "warnings.filterwarnings('ignore')"
   ]
  },
  {
   "cell_type": "code",
   "execution_count": 7,
   "id": "8b4103b7",
   "metadata": {},
   "outputs": [],
   "source": [
    "# set font size \n",
    "\n",
    "plt.rcParams.update({'font.size': 12})"
   ]
  },
  {
   "cell_type": "markdown",
   "id": "cf4a1e01",
   "metadata": {},
   "source": [
    "# The First Set of Data"
   ]
  },
  {
   "cell_type": "code",
   "execution_count": 8,
   "id": "75a011d9",
   "metadata": {
    "scrolled": false
   },
   "outputs": [],
   "source": [
    "path = 'data/sample_submission.csv'\n",
    "repo = 'https://github.com/emtinanseo/Sales-Future-Forecast.git'\n",
    "version = 'v0'\n",
    "\n",
    "data_url = dvc.api.get_url(\n",
    "    path=path, \n",
    "    repo=repo, \n",
    "    rev=version)"
   ]
  },
  {
   "cell_type": "code",
   "execution_count": null,
   "id": "c70905cd",
   "metadata": {
    "scrolled": false
   },
   "outputs": [],
   "source": [
    "# import the sample data\n",
    "\n",
    "data_sample = pd.read_csv('../data/sample_submission.csv')\n",
    "\n",
    "data_sample.head(5)"
   ]
  },
  {
   "cell_type": "code",
   "execution_count": null,
   "id": "8e512d63",
   "metadata": {},
   "outputs": [],
   "source": []
  }
 ],
 "metadata": {
  "kernelspec": {
   "display_name": "Python 3 (ipykernel)",
   "language": "python",
   "name": "python3"
  },
  "language_info": {
   "codemirror_mode": {
    "name": "ipython",
    "version": 3
   },
   "file_extension": ".py",
   "mimetype": "text/x-python",
   "name": "python",
   "nbconvert_exporter": "python",
   "pygments_lexer": "ipython3",
   "version": "3.8.13"
  }
 },
 "nbformat": 4,
 "nbformat_minor": 5
}

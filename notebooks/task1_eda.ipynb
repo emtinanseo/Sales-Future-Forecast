{
 "cells": [
  {
   "cell_type": "code",
   "execution_count": 1,
   "id": "b117471a",
   "metadata": {},
   "outputs": [],
   "source": [
    "import pandas as pd\n",
    "import matplotlib.pyplot as plt\n",
    "import seaborn as sns"
   ]
  },
  {
   "cell_type": "code",
   "execution_count": 2,
   "id": "cf221e8a",
   "metadata": {},
   "outputs": [],
   "source": [
    "import sys, os\n",
    "\n",
    "sys.path.append(os.path.abspath(os.path.join(\"../..\")))\n",
    "sys.path.append(os.path.abspath(os.path.join(\"../scripts\")))"
   ]
  },
  {
   "cell_type": "code",
   "execution_count": 3,
   "id": "553af874",
   "metadata": {},
   "outputs": [],
   "source": [
    "import eda_functions as eda"
   ]
  },
  {
   "cell_type": "code",
   "execution_count": 6,
   "id": "31634827",
   "metadata": {},
   "outputs": [],
   "source": [
    "import dvc.api"
   ]
  },
  {
   "cell_type": "code",
   "execution_count": 12,
   "id": "b5ec0cde",
   "metadata": {},
   "outputs": [],
   "source": [
    "from urllib.parse import urlparse"
   ]
  },
  {
   "cell_type": "code",
   "execution_count": 4,
   "id": "63a81b60",
   "metadata": {},
   "outputs": [],
   "source": [
    "import warnings \n",
    "\n",
    "# Suppressing warning messages\n",
    "warnings.filterwarnings('ignore')"
   ]
  },
  {
   "cell_type": "code",
   "execution_count": 5,
   "id": "8b4103b7",
   "metadata": {},
   "outputs": [],
   "source": [
    "# set font size \n",
    "\n",
    "plt.rcParams.update({'font.size': 12})"
   ]
  },
  {
   "cell_type": "markdown",
   "id": "cf4a1e01",
   "metadata": {},
   "source": [
    "# The First Set of Data"
   ]
  },
  {
   "cell_type": "code",
   "execution_count": 14,
   "id": "75a011d9",
   "metadata": {
    "scrolled": false
   },
   "outputs": [
    {
     "ename": "RevError",
     "evalue": "unknown Git revision 'v0'",
     "output_type": "error",
     "traceback": [
      "\u001b[1;31m---------------------------------------------------------------------------\u001b[0m",
      "\u001b[1;31mRevError\u001b[0m                                  Traceback (most recent call last)",
      "File \u001b[1;32m~\\anaconda3\\envs\\dvc_env\\lib\\site-packages\\dvc\\scm.py:159\u001b[0m, in \u001b[0;36mresolve_rev\u001b[1;34m(scm, rev)\u001b[0m\n\u001b[0;32m    158\u001b[0m \u001b[38;5;28;01mtry\u001b[39;00m:\n\u001b[1;32m--> 159\u001b[0m     \u001b[38;5;28;01mreturn\u001b[39;00m \u001b[43mscm\u001b[49m\u001b[38;5;241;43m.\u001b[39;49m\u001b[43mresolve_rev\u001b[49m\u001b[43m(\u001b[49m\u001b[43mfix_exp_head\u001b[49m\u001b[43m(\u001b[49m\u001b[43mscm\u001b[49m\u001b[43m,\u001b[49m\u001b[43m \u001b[49m\u001b[43mrev\u001b[49m\u001b[43m)\u001b[49m\u001b[43m)\u001b[49m\n\u001b[0;32m    160\u001b[0m \u001b[38;5;28;01mexcept\u001b[39;00m InternalRevError \u001b[38;5;28;01mas\u001b[39;00m exc:\n\u001b[0;32m    161\u001b[0m     \u001b[38;5;66;03m# `scm` will only resolve git branch and tag names,\u001b[39;00m\n\u001b[0;32m    162\u001b[0m     \u001b[38;5;66;03m# if rev is not a sha it may be an abbreviated experiment name\u001b[39;00m\n",
      "File \u001b[1;32m~\\anaconda3\\envs\\dvc_env\\lib\\site-packages\\scmrepo\\git\\__init__.py:289\u001b[0m, in \u001b[0;36mGit._backend_func\u001b[1;34m(self, name, *args, **kwargs)\u001b[0m\n\u001b[0;32m    288\u001b[0m func \u001b[38;5;241m=\u001b[39m \u001b[38;5;28mgetattr\u001b[39m(backend, name)\n\u001b[1;32m--> 289\u001b[0m result \u001b[38;5;241m=\u001b[39m \u001b[43mfunc\u001b[49m\u001b[43m(\u001b[49m\u001b[38;5;241;43m*\u001b[39;49m\u001b[43margs\u001b[49m\u001b[43m,\u001b[49m\u001b[43m \u001b[49m\u001b[38;5;241;43m*\u001b[39;49m\u001b[38;5;241;43m*\u001b[39;49m\u001b[43mkwargs\u001b[49m\u001b[43m)\u001b[49m\n\u001b[0;32m    290\u001b[0m \u001b[38;5;28mself\u001b[39m\u001b[38;5;241m.\u001b[39m_last_backend \u001b[38;5;241m=\u001b[39m key\n",
      "File \u001b[1;32m~\\anaconda3\\envs\\dvc_env\\lib\\site-packages\\scmrepo\\git\\backend\\pygit2.py:303\u001b[0m, in \u001b[0;36mPygit2Backend.resolve_rev\u001b[1;34m(self, rev)\u001b[0m\n\u001b[0;32m    302\u001b[0m     \u001b[38;5;28;01mreturn\u001b[39;00m shas\u001b[38;5;241m.\u001b[39mpop()  \u001b[38;5;66;03m# type: ignore\u001b[39;00m\n\u001b[1;32m--> 303\u001b[0m \u001b[38;5;28;01mraise\u001b[39;00m RevError(\u001b[38;5;124mf\u001b[39m\u001b[38;5;124m\"\u001b[39m\u001b[38;5;124munknown Git revision \u001b[39m\u001b[38;5;124m'\u001b[39m\u001b[38;5;132;01m{\u001b[39;00mrev\u001b[38;5;132;01m}\u001b[39;00m\u001b[38;5;124m'\u001b[39m\u001b[38;5;124m\"\u001b[39m)\n",
      "\u001b[1;31mRevError\u001b[0m: unknown Git revision 'v0'",
      "\nDuring handling of the above exception, another exception occurred:\n",
      "\u001b[1;31mRevError\u001b[0m                                  Traceback (most recent call last)",
      "Input \u001b[1;32mIn [14]\u001b[0m, in \u001b[0;36m<cell line: 5>\u001b[1;34m()\u001b[0m\n\u001b[0;32m      2\u001b[0m repo \u001b[38;5;241m=\u001b[39m \u001b[38;5;124m'\u001b[39m\u001b[38;5;124mhttps://github.com/emtinanseo/Sales-Future-Forecast.git\u001b[39m\u001b[38;5;124m'\u001b[39m\n\u001b[0;32m      3\u001b[0m version \u001b[38;5;241m=\u001b[39m \u001b[38;5;124m'\u001b[39m\u001b[38;5;124mv0\u001b[39m\u001b[38;5;124m'\u001b[39m\n\u001b[1;32m----> 5\u001b[0m data_url \u001b[38;5;241m=\u001b[39m \u001b[43mdvc\u001b[49m\u001b[38;5;241;43m.\u001b[39;49m\u001b[43mapi\u001b[49m\u001b[38;5;241;43m.\u001b[39;49m\u001b[43mget_url\u001b[49m\u001b[43m(\u001b[49m\n\u001b[0;32m      6\u001b[0m \u001b[43m    \u001b[49m\u001b[43mpath\u001b[49m\u001b[38;5;241;43m=\u001b[39;49m\u001b[43mpath\u001b[49m\u001b[43m,\u001b[49m\u001b[43m \u001b[49m\n\u001b[0;32m      7\u001b[0m \u001b[43m    \u001b[49m\u001b[43mrepo\u001b[49m\u001b[38;5;241;43m=\u001b[39;49m\u001b[43mrepo\u001b[49m\u001b[43m,\u001b[49m\u001b[43m \u001b[49m\n\u001b[0;32m      8\u001b[0m \u001b[43m    \u001b[49m\u001b[43mrev\u001b[49m\u001b[38;5;241;43m=\u001b[39;49m\u001b[43mversion\u001b[49m\u001b[43m)\u001b[49m\n",
      "File \u001b[1;32m~\\anaconda3\\envs\\dvc_env\\lib\\site-packages\\dvc\\api\\data.py:21\u001b[0m, in \u001b[0;36mget_url\u001b[1;34m(path, repo, rev, remote)\u001b[0m\n\u001b[0;32m     10\u001b[0m \u001b[38;5;28;01mdef\u001b[39;00m \u001b[38;5;21mget_url\u001b[39m(path, repo\u001b[38;5;241m=\u001b[39m\u001b[38;5;28;01mNone\u001b[39;00m, rev\u001b[38;5;241m=\u001b[39m\u001b[38;5;28;01mNone\u001b[39;00m, remote\u001b[38;5;241m=\u001b[39m\u001b[38;5;28;01mNone\u001b[39;00m):\n\u001b[0;32m     11\u001b[0m     \u001b[38;5;124;03m\"\"\"\u001b[39;00m\n\u001b[0;32m     12\u001b[0m \u001b[38;5;124;03m    Returns the URL to the storage location of a data file or directory tracked\u001b[39;00m\n\u001b[0;32m     13\u001b[0m \u001b[38;5;124;03m    in a DVC repo. For Git repos, HEAD is used unless a rev argument is\u001b[39;00m\n\u001b[1;32m   (...)\u001b[0m\n\u001b[0;32m     19\u001b[0m \u001b[38;5;124;03m    directory in the remote storage.\u001b[39;00m\n\u001b[0;32m     20\u001b[0m \u001b[38;5;124;03m    \"\"\"\u001b[39;00m\n\u001b[1;32m---> 21\u001b[0m     \u001b[38;5;28;01mwith\u001b[39;00m Repo\u001b[38;5;241m.\u001b[39mopen(repo, rev\u001b[38;5;241m=\u001b[39mrev, subrepos\u001b[38;5;241m=\u001b[39m\u001b[38;5;28;01mTrue\u001b[39;00m, uninitialized\u001b[38;5;241m=\u001b[39m\u001b[38;5;28;01mTrue\u001b[39;00m) \u001b[38;5;28;01mas\u001b[39;00m _repo:\n\u001b[0;32m     22\u001b[0m         fs_path \u001b[38;5;241m=\u001b[39m _repo\u001b[38;5;241m.\u001b[39mdvcfs\u001b[38;5;241m.\u001b[39mfrom_os_path(path)\n\u001b[0;32m     23\u001b[0m         \u001b[38;5;28;01mwith\u001b[39;00m reraise(\u001b[38;5;167;01mFileNotFoundError\u001b[39;00m, PathMissingError(path, repo)):\n",
      "File \u001b[1;32m~\\anaconda3\\envs\\dvc_env\\lib\\contextlib.py:113\u001b[0m, in \u001b[0;36m_GeneratorContextManager.__enter__\u001b[1;34m(self)\u001b[0m\n\u001b[0;32m    111\u001b[0m \u001b[38;5;28;01mdel\u001b[39;00m \u001b[38;5;28mself\u001b[39m\u001b[38;5;241m.\u001b[39margs, \u001b[38;5;28mself\u001b[39m\u001b[38;5;241m.\u001b[39mkwds, \u001b[38;5;28mself\u001b[39m\u001b[38;5;241m.\u001b[39mfunc\n\u001b[0;32m    112\u001b[0m \u001b[38;5;28;01mtry\u001b[39;00m:\n\u001b[1;32m--> 113\u001b[0m     \u001b[38;5;28;01mreturn\u001b[39;00m \u001b[38;5;28;43mnext\u001b[39;49m\u001b[43m(\u001b[49m\u001b[38;5;28;43mself\u001b[39;49m\u001b[38;5;241;43m.\u001b[39;49m\u001b[43mgen\u001b[49m\u001b[43m)\u001b[49m\n\u001b[0;32m    114\u001b[0m \u001b[38;5;28;01mexcept\u001b[39;00m \u001b[38;5;167;01mStopIteration\u001b[39;00m:\n\u001b[0;32m    115\u001b[0m     \u001b[38;5;28;01mraise\u001b[39;00m \u001b[38;5;167;01mRuntimeError\u001b[39;00m(\u001b[38;5;124m\"\u001b[39m\u001b[38;5;124mgenerator didn\u001b[39m\u001b[38;5;124m'\u001b[39m\u001b[38;5;124mt yield\u001b[39m\u001b[38;5;124m\"\u001b[39m) \u001b[38;5;28;01mfrom\u001b[39;00m \u001b[38;5;28mNone\u001b[39m\n",
      "File \u001b[1;32m~\\anaconda3\\envs\\dvc_env\\lib\\site-packages\\dvc\\external_repo.py:77\u001b[0m, in \u001b[0;36mexternal_repo\u001b[1;34m(url, rev, for_write, cache_dir, cache_types, **kwargs)\u001b[0m\n\u001b[0;32m     74\u001b[0m \u001b[38;5;28;01mif\u001b[39;00m \u001b[38;5;124m\"\u001b[39m\u001b[38;5;124muninitialized\u001b[39m\u001b[38;5;124m\"\u001b[39m \u001b[38;5;129;01mnot\u001b[39;00m \u001b[38;5;129;01min\u001b[39;00m repo_kwargs:\n\u001b[0;32m     75\u001b[0m     repo_kwargs[\u001b[38;5;124m\"\u001b[39m\u001b[38;5;124muninitialized\u001b[39m\u001b[38;5;124m\"\u001b[39m] \u001b[38;5;241m=\u001b[39m \u001b[38;5;28;01mTrue\u001b[39;00m\n\u001b[1;32m---> 77\u001b[0m repo \u001b[38;5;241m=\u001b[39m \u001b[43mRepo\u001b[49m\u001b[43m(\u001b[49m\u001b[38;5;241;43m*\u001b[39;49m\u001b[38;5;241;43m*\u001b[39;49m\u001b[43mrepo_kwargs\u001b[49m\u001b[43m)\u001b[49m\n\u001b[0;32m     79\u001b[0m \u001b[38;5;28;01mtry\u001b[39;00m:\n\u001b[0;32m     80\u001b[0m     \u001b[38;5;28;01myield\u001b[39;00m repo\n",
      "File \u001b[1;32m~\\anaconda3\\envs\\dvc_env\\lib\\site-packages\\dvc\\repo\\__init__.py:180\u001b[0m, in \u001b[0;36mRepo.__init__\u001b[1;34m(self, root_dir, fs, rev, subrepos, uninitialized, config, url, repo_factory, scm)\u001b[0m\n\u001b[0;32m    177\u001b[0m     root_dir \u001b[38;5;241m=\u001b[39m \u001b[38;5;124m\"\u001b[39m\u001b[38;5;124m/\u001b[39m\u001b[38;5;124m\"\u001b[39m\n\u001b[0;32m    178\u001b[0m     \u001b[38;5;28mself\u001b[39m\u001b[38;5;241m.\u001b[39m_fs \u001b[38;5;241m=\u001b[39m GitFileSystem(scm\u001b[38;5;241m=\u001b[39m\u001b[38;5;28mself\u001b[39m\u001b[38;5;241m.\u001b[39m_scm, rev\u001b[38;5;241m=\u001b[39mrev)\n\u001b[1;32m--> 180\u001b[0m \u001b[38;5;28mself\u001b[39m\u001b[38;5;241m.\u001b[39mroot_dir, \u001b[38;5;28mself\u001b[39m\u001b[38;5;241m.\u001b[39mdvc_dir, \u001b[38;5;28mself\u001b[39m\u001b[38;5;241m.\u001b[39mtmp_dir \u001b[38;5;241m=\u001b[39m \u001b[38;5;28;43mself\u001b[39;49m\u001b[38;5;241;43m.\u001b[39;49m\u001b[43m_get_repo_dirs\u001b[49m\u001b[43m(\u001b[49m\n\u001b[0;32m    181\u001b[0m \u001b[43m    \u001b[49m\u001b[43mroot_dir\u001b[49m\u001b[38;5;241;43m=\u001b[39;49m\u001b[43mroot_dir\u001b[49m\u001b[43m,\u001b[49m\n\u001b[0;32m    182\u001b[0m \u001b[43m    \u001b[49m\u001b[43mfs\u001b[49m\u001b[38;5;241;43m=\u001b[39;49m\u001b[38;5;28;43mself\u001b[39;49m\u001b[38;5;241;43m.\u001b[39;49m\u001b[43mfs\u001b[49m\u001b[43m,\u001b[49m\n\u001b[0;32m    183\u001b[0m \u001b[43m    \u001b[49m\u001b[43muninitialized\u001b[49m\u001b[38;5;241;43m=\u001b[39;49m\u001b[43muninitialized\u001b[49m\u001b[43m,\u001b[49m\n\u001b[0;32m    184\u001b[0m \u001b[43m    \u001b[49m\u001b[43mscm\u001b[49m\u001b[38;5;241;43m=\u001b[39;49m\u001b[43mscm\u001b[49m\u001b[43m,\u001b[49m\n\u001b[0;32m    185\u001b[0m \u001b[43m\u001b[49m\u001b[43m)\u001b[49m\n\u001b[0;32m    187\u001b[0m \u001b[38;5;28mself\u001b[39m\u001b[38;5;241m.\u001b[39mconfig \u001b[38;5;241m=\u001b[39m Config(\u001b[38;5;28mself\u001b[39m\u001b[38;5;241m.\u001b[39mdvc_dir, fs\u001b[38;5;241m=\u001b[39m\u001b[38;5;28mself\u001b[39m\u001b[38;5;241m.\u001b[39mfs, config\u001b[38;5;241m=\u001b[39mconfig)\n\u001b[0;32m    188\u001b[0m \u001b[38;5;28mself\u001b[39m\u001b[38;5;241m.\u001b[39m_uninitialized \u001b[38;5;241m=\u001b[39m uninitialized\n",
      "File \u001b[1;32m~\\anaconda3\\envs\\dvc_env\\lib\\site-packages\\dvc\\repo\\__init__.py:99\u001b[0m, in \u001b[0;36mRepo._get_repo_dirs\u001b[1;34m(self, root_dir, fs, uninitialized, scm)\u001b[0m\n\u001b[0;32m     97\u001b[0m tmp_dir \u001b[38;5;241m=\u001b[39m \u001b[38;5;28;01mNone\u001b[39;00m\n\u001b[0;32m     98\u001b[0m \u001b[38;5;28;01mtry\u001b[39;00m:\n\u001b[1;32m---> 99\u001b[0m     root_dir \u001b[38;5;241m=\u001b[39m \u001b[38;5;28;43mself\u001b[39;49m\u001b[38;5;241;43m.\u001b[39;49m\u001b[43mfind_root\u001b[49m\u001b[43m(\u001b[49m\u001b[43mroot_dir\u001b[49m\u001b[43m,\u001b[49m\u001b[43m \u001b[49m\u001b[43mfs\u001b[49m\u001b[43m)\u001b[49m\n\u001b[0;32m    100\u001b[0m     fs \u001b[38;5;241m=\u001b[39m fs \u001b[38;5;129;01mor\u001b[39;00m localfs\n\u001b[0;32m    101\u001b[0m     dvc_dir \u001b[38;5;241m=\u001b[39m fs\u001b[38;5;241m.\u001b[39mpath\u001b[38;5;241m.\u001b[39mjoin(root_dir, \u001b[38;5;28mself\u001b[39m\u001b[38;5;241m.\u001b[39mDVC_DIR)\n",
      "File \u001b[1;32m~\\anaconda3\\envs\\dvc_env\\lib\\site-packages\\dvc\\repo\\__init__.py:334\u001b[0m, in \u001b[0;36mRepo.find_root\u001b[1;34m(cls, root, fs)\u001b[0m\n\u001b[0;32m    332\u001b[0m fs \u001b[38;5;241m=\u001b[39m fs \u001b[38;5;129;01mor\u001b[39;00m localfs\n\u001b[0;32m    333\u001b[0m root \u001b[38;5;241m=\u001b[39m root \u001b[38;5;129;01mor\u001b[39;00m os\u001b[38;5;241m.\u001b[39mcurdir\n\u001b[1;32m--> 334\u001b[0m root_dir \u001b[38;5;241m=\u001b[39m \u001b[43mfs\u001b[49m\u001b[38;5;241;43m.\u001b[39;49m\u001b[43mpath\u001b[49m\u001b[38;5;241m.\u001b[39mrealpath(root)\n\u001b[0;32m    336\u001b[0m \u001b[38;5;28;01mif\u001b[39;00m \u001b[38;5;129;01mnot\u001b[39;00m fs\u001b[38;5;241m.\u001b[39misdir(root_dir):\n\u001b[0;32m    337\u001b[0m     \u001b[38;5;28;01mraise\u001b[39;00m NotDvcRepoError(\u001b[38;5;124mf\u001b[39m\u001b[38;5;124m\"\u001b[39m\u001b[38;5;124mdirectory \u001b[39m\u001b[38;5;124m'\u001b[39m\u001b[38;5;132;01m{\u001b[39;00mroot\u001b[38;5;132;01m}\u001b[39;00m\u001b[38;5;124m'\u001b[39m\u001b[38;5;124m does not exist\u001b[39m\u001b[38;5;124m\"\u001b[39m)\n",
      "File \u001b[1;32m~\\anaconda3\\envs\\dvc_env\\lib\\site-packages\\funcy\\objects.py:28\u001b[0m, in \u001b[0;36mcached_property.__get__\u001b[1;34m(self, instance, type)\u001b[0m\n\u001b[0;32m     26\u001b[0m \u001b[38;5;28;01mif\u001b[39;00m instance \u001b[38;5;129;01mis\u001b[39;00m \u001b[38;5;28;01mNone\u001b[39;00m:\n\u001b[0;32m     27\u001b[0m     \u001b[38;5;28;01mreturn\u001b[39;00m \u001b[38;5;28mself\u001b[39m\n\u001b[1;32m---> 28\u001b[0m res \u001b[38;5;241m=\u001b[39m instance\u001b[38;5;241m.\u001b[39m\u001b[38;5;18m__dict__\u001b[39m[\u001b[38;5;28mself\u001b[39m\u001b[38;5;241m.\u001b[39mfget\u001b[38;5;241m.\u001b[39m\u001b[38;5;18m__name__\u001b[39m] \u001b[38;5;241m=\u001b[39m \u001b[38;5;28;43mself\u001b[39;49m\u001b[38;5;241;43m.\u001b[39;49m\u001b[43mfget\u001b[49m\u001b[43m(\u001b[49m\u001b[43minstance\u001b[49m\u001b[43m)\u001b[49m\n\u001b[0;32m     29\u001b[0m \u001b[38;5;28;01mreturn\u001b[39;00m res\n",
      "File \u001b[1;32m~\\anaconda3\\envs\\dvc_env\\lib\\site-packages\\dvc\\fs\\git.py:50\u001b[0m, in \u001b[0;36mGitFileSystem.path\u001b[1;34m(self)\u001b[0m\n\u001b[0;32m     48\u001b[0m \u001b[38;5;129m@cached_property\u001b[39m\n\u001b[0;32m     49\u001b[0m \u001b[38;5;28;01mdef\u001b[39;00m \u001b[38;5;21mpath\u001b[39m(\u001b[38;5;28mself\u001b[39m):\n\u001b[1;32m---> 50\u001b[0m     \u001b[38;5;28;01mreturn\u001b[39;00m \u001b[38;5;28;43mself\u001b[39;49m\u001b[38;5;241;43m.\u001b[39;49m\u001b[43mfs\u001b[49m\u001b[38;5;241m.\u001b[39mpath\n",
      "File \u001b[1;32m~\\anaconda3\\envs\\dvc_env\\lib\\site-packages\\funcy\\objects.py:50\u001b[0m, in \u001b[0;36mwrap_prop.<locals>.decorator.<locals>.WrapperProp.__get__\u001b[1;34m(self, instance, type)\u001b[0m\n\u001b[0;32m     47\u001b[0m     \u001b[38;5;28;01mreturn\u001b[39;00m \u001b[38;5;28mself\u001b[39m\n\u001b[0;32m     49\u001b[0m \u001b[38;5;28;01mwith\u001b[39;00m ctx:\n\u001b[1;32m---> 50\u001b[0m     \u001b[38;5;28;01mreturn\u001b[39;00m \u001b[43mprop\u001b[49m\u001b[38;5;241;43m.\u001b[39;49m\u001b[38;5;21;43m__get__\u001b[39;49m\u001b[43m(\u001b[49m\u001b[43minstance\u001b[49m\u001b[43m,\u001b[49m\u001b[43m \u001b[49m\u001b[38;5;28;43mtype\u001b[39;49m\u001b[43m)\u001b[49m\n",
      "File \u001b[1;32m~\\anaconda3\\envs\\dvc_env\\lib\\site-packages\\funcy\\objects.py:28\u001b[0m, in \u001b[0;36mcached_property.__get__\u001b[1;34m(self, instance, type)\u001b[0m\n\u001b[0;32m     26\u001b[0m \u001b[38;5;28;01mif\u001b[39;00m instance \u001b[38;5;129;01mis\u001b[39;00m \u001b[38;5;28;01mNone\u001b[39;00m:\n\u001b[0;32m     27\u001b[0m     \u001b[38;5;28;01mreturn\u001b[39;00m \u001b[38;5;28mself\u001b[39m\n\u001b[1;32m---> 28\u001b[0m res \u001b[38;5;241m=\u001b[39m instance\u001b[38;5;241m.\u001b[39m\u001b[38;5;18m__dict__\u001b[39m[\u001b[38;5;28mself\u001b[39m\u001b[38;5;241m.\u001b[39mfget\u001b[38;5;241m.\u001b[39m\u001b[38;5;18m__name__\u001b[39m] \u001b[38;5;241m=\u001b[39m \u001b[38;5;28;43mself\u001b[39;49m\u001b[38;5;241;43m.\u001b[39;49m\u001b[43mfget\u001b[49m\u001b[43m(\u001b[49m\u001b[43minstance\u001b[49m\u001b[43m)\u001b[49m\n\u001b[0;32m     29\u001b[0m \u001b[38;5;28;01mreturn\u001b[39;00m res\n",
      "File \u001b[1;32m~\\anaconda3\\envs\\dvc_env\\lib\\site-packages\\dvc\\fs\\git.py:46\u001b[0m, in \u001b[0;36mGitFileSystem.fs\u001b[1;34m(self)\u001b[0m\n\u001b[0;32m     41\u001b[0m \u001b[38;5;129m@wrap_prop\u001b[39m(threading\u001b[38;5;241m.\u001b[39mLock())\n\u001b[0;32m     42\u001b[0m \u001b[38;5;129m@cached_property\u001b[39m\n\u001b[0;32m     43\u001b[0m \u001b[38;5;28;01mdef\u001b[39;00m \u001b[38;5;21mfs\u001b[39m(\u001b[38;5;28mself\u001b[39m) \u001b[38;5;241m-\u001b[39m\u001b[38;5;241m>\u001b[39m \u001b[38;5;124m\"\u001b[39m\u001b[38;5;124mFsspecGitFileSystem\u001b[39m\u001b[38;5;124m\"\u001b[39m:\n\u001b[0;32m     44\u001b[0m     \u001b[38;5;28;01mfrom\u001b[39;00m \u001b[38;5;21;01mscmrepo\u001b[39;00m\u001b[38;5;21;01m.\u001b[39;00m\u001b[38;5;21;01mfs\u001b[39;00m \u001b[38;5;28;01mimport\u001b[39;00m GitFileSystem \u001b[38;5;28;01mas\u001b[39;00m FsspecGitFileSystem\n\u001b[1;32m---> 46\u001b[0m     \u001b[38;5;28;01mreturn\u001b[39;00m \u001b[43mFsspecGitFileSystem\u001b[49m\u001b[43m(\u001b[49m\u001b[38;5;241;43m*\u001b[39;49m\u001b[38;5;241;43m*\u001b[39;49m\u001b[38;5;28;43mself\u001b[39;49m\u001b[38;5;241;43m.\u001b[39;49m\u001b[43mfs_args\u001b[49m\u001b[43m)\u001b[49m\n",
      "File \u001b[1;32m~\\anaconda3\\envs\\dvc_env\\lib\\site-packages\\fsspec\\spec.py:76\u001b[0m, in \u001b[0;36m_Cached.__call__\u001b[1;34m(cls, *args, **kwargs)\u001b[0m\n\u001b[0;32m     74\u001b[0m     \u001b[38;5;28;01mreturn\u001b[39;00m \u001b[38;5;28mcls\u001b[39m\u001b[38;5;241m.\u001b[39m_cache[token]\n\u001b[0;32m     75\u001b[0m \u001b[38;5;28;01melse\u001b[39;00m:\n\u001b[1;32m---> 76\u001b[0m     obj \u001b[38;5;241m=\u001b[39m \u001b[38;5;28;43msuper\u001b[39;49m\u001b[43m(\u001b[49m\u001b[43m)\u001b[49m\u001b[38;5;241;43m.\u001b[39;49m\u001b[38;5;21;43m__call__\u001b[39;49m\u001b[43m(\u001b[49m\u001b[38;5;241;43m*\u001b[39;49m\u001b[43margs\u001b[49m\u001b[43m,\u001b[49m\u001b[43m \u001b[49m\u001b[38;5;241;43m*\u001b[39;49m\u001b[38;5;241;43m*\u001b[39;49m\u001b[43mkwargs\u001b[49m\u001b[43m)\u001b[49m\n\u001b[0;32m     77\u001b[0m     \u001b[38;5;66;03m# Setting _fs_token here causes some static linters to complain.\u001b[39;00m\n\u001b[0;32m     78\u001b[0m     obj\u001b[38;5;241m.\u001b[39m_fs_token_ \u001b[38;5;241m=\u001b[39m token\n",
      "File \u001b[1;32m~\\anaconda3\\envs\\dvc_env\\lib\\site-packages\\scmrepo\\fs.py:174\u001b[0m, in \u001b[0;36mGitFileSystem.__init__\u001b[1;34m(self, path, rev, scm, trie, rev_resolver, **kwargs)\u001b[0m\n\u001b[0;32m    172\u001b[0m scm \u001b[38;5;241m=\u001b[39m scm \u001b[38;5;129;01mor\u001b[39;00m Git(path)\n\u001b[0;32m    173\u001b[0m resolver \u001b[38;5;241m=\u001b[39m rev_resolver \u001b[38;5;129;01mor\u001b[39;00m Git\u001b[38;5;241m.\u001b[39mresolve_rev\n\u001b[1;32m--> 174\u001b[0m resolved \u001b[38;5;241m=\u001b[39m \u001b[43mresolver\u001b[49m\u001b[43m(\u001b[49m\u001b[43mscm\u001b[49m\u001b[43m,\u001b[49m\u001b[43m \u001b[49m\u001b[43mrev\u001b[49m\u001b[43m \u001b[49m\u001b[38;5;129;43;01mor\u001b[39;49;00m\u001b[43m \u001b[49m\u001b[38;5;124;43m\"\u001b[39;49m\u001b[38;5;124;43mHEAD\u001b[39;49m\u001b[38;5;124;43m\"\u001b[39;49m\u001b[43m)\u001b[49m\n\u001b[0;32m    175\u001b[0m tree_obj \u001b[38;5;241m=\u001b[39m scm\u001b[38;5;241m.\u001b[39mpygit2\u001b[38;5;241m.\u001b[39mget_tree_obj(rev\u001b[38;5;241m=\u001b[39mresolved)\n\u001b[0;32m    176\u001b[0m trie \u001b[38;5;241m=\u001b[39m GitTrie(tree_obj, resolved)\n",
      "File \u001b[1;32m~\\anaconda3\\envs\\dvc_env\\lib\\site-packages\\dvc\\scm.py:176\u001b[0m, in \u001b[0;36mresolve_rev\u001b[1;34m(scm, rev)\u001b[0m\n\u001b[0;32m    173\u001b[0m     \u001b[38;5;28;01mif\u001b[39;00m ref_infos:\n\u001b[0;32m    174\u001b[0m         \u001b[38;5;28;01mreturn\u001b[39;00m scm\u001b[38;5;241m.\u001b[39mget_ref(\u001b[38;5;28mstr\u001b[39m(ref_infos))\n\u001b[1;32m--> 176\u001b[0m \u001b[38;5;28;01mraise\u001b[39;00m RevError(\u001b[38;5;28mstr\u001b[39m(exc))\n",
      "\u001b[1;31mRevError\u001b[0m: unknown Git revision 'v0'"
     ]
    }
   ],
   "source": [
    "path = 'data/sample_submission.csv'\n",
    "repo = 'https://github.com/emtinanseo/Sales-Future-Forecast.git'\n",
    "version = 'v0'\n",
    "\n",
    "data_url = dvc.api.get_url(\n",
    "    path=path, \n",
    "    repo=repo, \n",
    "    rev=version)"
   ]
  },
  {
   "cell_type": "code",
   "execution_count": null,
   "id": "c70905cd",
   "metadata": {},
   "outputs": [],
   "source": [
    "# import the cleaned data\n",
    "\n",
    "data = pd.read_csv(\"../data/AdSmartClean_data.csv\")\n",
    "\n",
    "data.head(5)"
   ]
  }
 ],
 "metadata": {
  "kernelspec": {
   "display_name": "Python 3 (ipykernel)",
   "language": "python",
   "name": "python3"
  },
  "language_info": {
   "codemirror_mode": {
    "name": "ipython",
    "version": 3
   },
   "file_extension": ".py",
   "mimetype": "text/x-python",
   "name": "python",
   "nbconvert_exporter": "python",
   "pygments_lexer": "ipython3",
   "version": "3.8.13"
  }
 },
 "nbformat": 4,
 "nbformat_minor": 5
}

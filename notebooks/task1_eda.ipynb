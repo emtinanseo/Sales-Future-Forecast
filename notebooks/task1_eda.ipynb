{
 "cells": [
  {
   "cell_type": "code",
   "execution_count": 1,
   "id": "b117471a",
   "metadata": {},
   "outputs": [],
   "source": [
    "import pandas as pd\n",
    "import matplotlib.pyplot as plt\n",
    "import seaborn as sns"
   ]
  },
  {
   "cell_type": "code",
   "execution_count": 2,
   "id": "cf221e8a",
   "metadata": {},
   "outputs": [],
   "source": [
    "import sys, os\n",
    "\n",
    "sys.path.append(os.path.abspath(os.path.join(\"../..\")))\n",
    "sys.path.append(os.path.abspath(os.path.join(\"../scripts\")))"
   ]
  },
  {
   "cell_type": "code",
   "execution_count": 3,
   "id": "553af874",
   "metadata": {},
   "outputs": [],
   "source": [
    "import eda_functions as eda"
   ]
  },
  {
   "cell_type": "code",
   "execution_count": 4,
   "id": "31634827",
   "metadata": {},
   "outputs": [],
   "source": [
    "import dvc.api"
   ]
  },
  {
   "cell_type": "code",
   "execution_count": 5,
   "id": "b5ec0cde",
   "metadata": {},
   "outputs": [],
   "source": [
    "from urllib.parse import urlparse"
   ]
  },
  {
   "cell_type": "code",
   "execution_count": 6,
   "id": "63a81b60",
   "metadata": {},
   "outputs": [],
   "source": [
    "import warnings \n",
    "\n",
    "# Suppressing warning messages\n",
    "warnings.filterwarnings('ignore')"
   ]
  },
  {
   "cell_type": "code",
   "execution_count": 7,
   "id": "8b4103b7",
   "metadata": {},
   "outputs": [],
   "source": [
    "# set font size \n",
    "\n",
    "plt.rcParams.update({'font.size': 12})"
   ]
  },
  {
   "cell_type": "markdown",
   "id": "cf4a1e01",
   "metadata": {},
   "source": [
    "# Read The Data"
   ]
  },
  {
   "cell_type": "code",
   "execution_count": 8,
   "id": "68cdbc78",
   "metadata": {},
   "outputs": [],
   "source": [
    "#path = 'data/store.csv'\n",
    "#repo = 'https://github.com/emtinanseo/Sales-Future-Forecast.git'\n",
    "#version = 'v0'\n",
    "\n",
    "#data_url = dvc.api.get_url(path=path, repo=repo, rev=version)"
   ]
  },
  {
   "cell_type": "code",
   "execution_count": 9,
   "id": "eac4fe8f",
   "metadata": {},
   "outputs": [],
   "source": [
    "# import the store data: store.csv - supplemental information about the stores\n",
    "\n",
    "data_store = pd.read_csv('../data/store.csv')"
   ]
  },
  {
   "cell_type": "code",
   "execution_count": 10,
   "id": "a447cf38",
   "metadata": {},
   "outputs": [],
   "source": [
    "#path = 'data/train.csv'\n",
    "#repo = 'https://github.com/emtinanseo/Sales-Future-Forecast.git'\n",
    "#version = 'v0'\n",
    "\n",
    "#data_url = dvc.api.get_url(path=path, repo=repo, rev=version)"
   ]
  },
  {
   "cell_type": "code",
   "execution_count": 11,
   "id": "1284f848",
   "metadata": {},
   "outputs": [],
   "source": [
    "# import the train data: train.csv - historical data including Sales\n",
    "\n",
    "data_train = pd.read_csv('../data/train.csv')"
   ]
  },
  {
   "cell_type": "code",
   "execution_count": 12,
   "id": "3ab79cba",
   "metadata": {},
   "outputs": [],
   "source": [
    "#path = 'data/test.csv'\n",
    "#repo = 'https://github.com/emtinanseo/Sales-Future-Forecast.git'\n",
    "#version = 'v0'\n",
    "\n",
    "#data_url = dvc.api.get_url(path=path, repo=repo, rev=version)"
   ]
  },
  {
   "cell_type": "code",
   "execution_count": 13,
   "id": "174082f2",
   "metadata": {},
   "outputs": [],
   "source": [
    "# import the test data: test.csv - historical data excluding Sales\n",
    "\n",
    "data_test = pd.read_csv('../data/test.csv')"
   ]
  },
  {
   "cell_type": "markdown",
   "id": "f1a5a6ba",
   "metadata": {},
   "source": [
    "# Exploring Train and Test Data"
   ]
  },
  {
   "cell_type": "markdown",
   "id": "50cdf317",
   "metadata": {},
   "source": [
    "## Size"
   ]
  },
  {
   "cell_type": "code",
   "execution_count": 14,
   "id": "e9736583",
   "metadata": {},
   "outputs": [
    {
     "name": "stdout",
     "output_type": "stream",
     "text": [
      "train data has 1017209 rows and 9 columns\n"
     ]
    }
   ],
   "source": [
    "print(\"train data has {} rows and {} columns\".format(data_train.shape[0],data_train.shape[1]))"
   ]
  },
  {
   "cell_type": "code",
   "execution_count": 15,
   "id": "de781b06",
   "metadata": {},
   "outputs": [
    {
     "name": "stdout",
     "output_type": "stream",
     "text": [
      "test data has 41088 rows and 8 columns\n"
     ]
    }
   ],
   "source": [
    "print(\"test data has {} rows and {} columns\".format(data_test.shape[0],data_test.shape[1]))"
   ]
  },
  {
   "cell_type": "code",
   "execution_count": 16,
   "id": "bafcd4b4",
   "metadata": {},
   "outputs": [
    {
     "name": "stdout",
     "output_type": "stream",
     "text": [
      "of the total data, 96.12% is train and 3.88% is test\n"
     ]
    }
   ],
   "source": [
    "total = data_train.shape[0] + data_test.shape[0]\n",
    "\n",
    "print(\"of the total data, {:.2f}% is train and {:.2f}% is test\".format(data_train.shape[0]*100/total,\n",
    "                                                                      data_test.shape[0]*100/total))"
   ]
  },
  {
   "cell_type": "markdown",
   "id": "33abb455",
   "metadata": {},
   "source": [
    "## Summary"
   ]
  },
  {
   "cell_type": "code",
   "execution_count": 17,
   "id": "2c438433",
   "metadata": {},
   "outputs": [
    {
     "ename": "AttributeError",
     "evalue": "module 'eda_functions' has no attribute 'missing_values_table'",
     "output_type": "error",
     "traceback": [
      "\u001b[1;31m---------------------------------------------------------------------------\u001b[0m",
      "\u001b[1;31mAttributeError\u001b[0m                            Traceback (most recent call last)",
      "Input \u001b[1;32mIn [17]\u001b[0m, in \u001b[0;36m<cell line: 1>\u001b[1;34m()\u001b[0m\n\u001b[1;32m----> 1\u001b[0m \u001b[43meda\u001b[49m\u001b[38;5;241;43m.\u001b[39;49m\u001b[43mmissing_values_table\u001b[49m(data_train)\n",
      "\u001b[1;31mAttributeError\u001b[0m: module 'eda_functions' has no attribute 'missing_values_table'"
     ]
    }
   ],
   "source": [
    "eda.missing_values_table(data_train)"
   ]
  },
  {
   "cell_type": "code",
   "execution_count": null,
   "id": "2b28cfd3",
   "metadata": {},
   "outputs": [],
   "source": [
    "missing_values_table"
   ]
  }
 ],
 "metadata": {
  "kernelspec": {
   "display_name": "Python 3 (ipykernel)",
   "language": "python",
   "name": "python3"
  },
  "language_info": {
   "codemirror_mode": {
    "name": "ipython",
    "version": 3
   },
   "file_extension": ".py",
   "mimetype": "text/x-python",
   "name": "python",
   "nbconvert_exporter": "python",
   "pygments_lexer": "ipython3",
   "version": "3.8.13"
  }
 },
 "nbformat": 4,
 "nbformat_minor": 5
}

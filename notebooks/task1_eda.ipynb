{
 "cells": [
  {
   "cell_type": "code",
   "execution_count": 1,
   "id": "b117471a",
   "metadata": {},
   "outputs": [],
   "source": [
    "import pandas as pd\n",
    "import matplotlib.pyplot as plt\n",
    "import seaborn as sns"
   ]
  },
  {
   "cell_type": "code",
   "execution_count": 2,
   "id": "cf221e8a",
   "metadata": {},
   "outputs": [],
   "source": [
    "import sys, os\n",
    "\n",
    "sys.path.append(os.path.abspath(os.path.join(\"../..\")))\n",
    "sys.path.append(os.path.abspath(os.path.join(\"../scripts\")))"
   ]
  },
  {
   "cell_type": "code",
   "execution_count": 3,
   "id": "553af874",
   "metadata": {},
   "outputs": [],
   "source": [
    "import eda_functions as eda"
   ]
  },
  {
   "cell_type": "code",
   "execution_count": 4,
   "id": "31634827",
   "metadata": {},
   "outputs": [],
   "source": [
    "import dvc.api"
   ]
  },
  {
   "cell_type": "code",
   "execution_count": 5,
   "id": "b5ec0cde",
   "metadata": {},
   "outputs": [],
   "source": [
    "from urllib.parse import urlparse"
   ]
  },
  {
   "cell_type": "code",
   "execution_count": 6,
   "id": "63a81b60",
   "metadata": {},
   "outputs": [],
   "source": [
    "import warnings \n",
    "\n",
    "# Suppressing warning messages\n",
    "warnings.filterwarnings('ignore')"
   ]
  },
  {
   "cell_type": "code",
   "execution_count": 7,
   "id": "8b4103b7",
   "metadata": {},
   "outputs": [],
   "source": [
    "# set font size \n",
    "\n",
    "plt.rcParams.update({'font.size': 12})"
   ]
  },
  {
   "cell_type": "markdown",
   "id": "cf4a1e01",
   "metadata": {},
   "source": [
    "# Read The Data"
   ]
  },
  {
   "cell_type": "code",
   "execution_count": null,
   "id": "512c9a46",
   "metadata": {},
   "outputs": [],
   "source": [
    "#path = 'data/store.csv'\n",
    "#repo = 'https://github.com/emtinanseo/Sales-Future-Forecast.git'\n",
    "#version = 'v0'\n",
    "\n",
    "#data_url = dvc.api.get_url(path=path, repo=repo, rev=version)"
   ]
  },
  {
   "cell_type": "code",
   "execution_count": 17,
   "id": "bfdecba8",
   "metadata": {},
   "outputs": [],
   "source": [
    "# import the store data: store.csv - supplemental information about the stores\n",
    "\n",
    "data_store = pd.read_csv('../data/store.csv')"
   ]
  },
  {
   "cell_type": "code",
   "execution_count": null,
   "id": "0c39e9dd",
   "metadata": {},
   "outputs": [],
   "source": [
    "#path = 'data/train.csv'\n",
    "#repo = 'https://github.com/emtinanseo/Sales-Future-Forecast.git'\n",
    "#version = 'v0'\n",
    "\n",
    "#data_url = dvc.api.get_url(path=path, repo=repo, rev=version)"
   ]
  },
  {
   "cell_type": "code",
   "execution_count": 18,
   "id": "3cc6be1c",
   "metadata": {},
   "outputs": [],
   "source": [
    "# import the train data: train.csv - historical data including Sales\n",
    "\n",
    "data_train = pd.read_csv('../data/train.csv')"
   ]
  },
  {
   "cell_type": "code",
   "execution_count": null,
   "id": "0d793bf1",
   "metadata": {},
   "outputs": [],
   "source": [
    "#path = 'data/test.csv'\n",
    "#repo = 'https://github.com/emtinanseo/Sales-Future-Forecast.git'\n",
    "#version = 'v0'\n",
    "\n",
    "#data_url = dvc.api.get_url(path=path, repo=repo, rev=version)"
   ]
  },
  {
   "cell_type": "code",
   "execution_count": 19,
   "id": "6394642a",
   "metadata": {},
   "outputs": [],
   "source": [
    "# import the test data: test.csv - historical data excluding Sales\n",
    "\n",
    "data_test = pd.read_csv('../data/test.csv')"
   ]
  },
  {
   "cell_type": "code",
   "execution_count": 22,
   "id": "54e630c2",
   "metadata": {},
   "outputs": [
    {
     "name": "stdout",
     "output_type": "stream",
     "text": [
      "(1115, 10)\n",
      "(1017209, 9)\n",
      "(41088, 8)\n"
     ]
    }
   ],
   "source": [
    "print(data_store.shape)\n",
    "print(data_train.shape)\n",
    "print(data_test.shape)"
   ]
  },
  {
   "cell_type": "markdown",
   "id": "92252d27",
   "metadata": {},
   "source": [
    "#"
   ]
  },
  {
   "cell_type": "code",
   "execution_count": null,
   "id": "fa8916db",
   "metadata": {},
   "outputs": [],
   "source": []
  }
 ],
 "metadata": {
  "kernelspec": {
   "display_name": "Python 3 (ipykernel)",
   "language": "python",
   "name": "python3"
  },
  "language_info": {
   "codemirror_mode": {
    "name": "ipython",
    "version": 3
   },
   "file_extension": ".py",
   "mimetype": "text/x-python",
   "name": "python",
   "nbconvert_exporter": "python",
   "pygments_lexer": "ipython3",
   "version": "3.8.13"
  }
 },
 "nbformat": 4,
 "nbformat_minor": 5
}
